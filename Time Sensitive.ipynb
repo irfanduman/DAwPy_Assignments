{
 "cells": [
  {
   "cell_type": "markdown",
   "metadata": {},
   "source": [
    "## <p style=\"background-color:#9d4f8c; font-family:newtimeroman; color:#FFF9ED; font-size:150%; text-align:center; border-radius:10px 10px;\">TIME SENSITIVE INTERVIEW QUESTIONS</p>"
   ]
  },
  {
   "cell_type": "code",
   "execution_count": 1,
   "metadata": {},
   "outputs": [],
   "source": [
    "import pandas as pd\n",
    "import numpy as np"
   ]
  },
  {
   "cell_type": "code",
   "execution_count": 193,
   "metadata": {
    "scrolled": true
   },
   "outputs": [
    {
     "data": {
      "text/html": [
       "<div>\n",
       "<style scoped>\n",
       "    .dataframe tbody tr th:only-of-type {\n",
       "        vertical-align: middle;\n",
       "    }\n",
       "\n",
       "    .dataframe tbody tr th {\n",
       "        vertical-align: top;\n",
       "    }\n",
       "\n",
       "    .dataframe thead th {\n",
       "        text-align: right;\n",
       "    }\n",
       "</style>\n",
       "<table border=\"1\" class=\"dataframe\">\n",
       "  <thead>\n",
       "    <tr style=\"text-align: right;\">\n",
       "      <th></th>\n",
       "      <th>buyer_id</th>\n",
       "      <th>buyer_country</th>\n",
       "      <th>seller_id</th>\n",
       "      <th>seller_country</th>\n",
       "      <th>product_code</th>\n",
       "      <th>category</th>\n",
       "      <th>brand</th>\n",
       "      <th>currency</th>\n",
       "      <th>price</th>\n",
       "      <th>date</th>\n",
       "    </tr>\n",
       "  </thead>\n",
       "  <tbody>\n",
       "    <tr>\n",
       "      <th>0</th>\n",
       "      <td>qzpjsi9t0o</td>\n",
       "      <td>GB</td>\n",
       "      <td>6oufpaot</td>\n",
       "      <td>GB</td>\n",
       "      <td>ydecnydr6obf</td>\n",
       "      <td>Dresses</td>\n",
       "      <td>NaN</td>\n",
       "      <td>GBP</td>\n",
       "      <td>19.11</td>\n",
       "      <td>2020-08-03</td>\n",
       "    </tr>\n",
       "    <tr>\n",
       "      <th>1</th>\n",
       "      <td>o79pns1qwo</td>\n",
       "      <td>GB</td>\n",
       "      <td>50xki2yg</td>\n",
       "      <td>GB</td>\n",
       "      <td>38chj507o6h2</td>\n",
       "      <td>Outerwear</td>\n",
       "      <td>Adidas Originals</td>\n",
       "      <td>GBP</td>\n",
       "      <td>15.92</td>\n",
       "      <td>2020-08-09</td>\n",
       "    </tr>\n",
       "    <tr>\n",
       "      <th>2</th>\n",
       "      <td>sjgbjdkhqx</td>\n",
       "      <td>GB</td>\n",
       "      <td>50xki2yg</td>\n",
       "      <td>GB</td>\n",
       "      <td>i9ynyxj5tdp8</td>\n",
       "      <td>Tops - Mens</td>\n",
       "      <td>NaN</td>\n",
       "      <td>GBP</td>\n",
       "      <td>6.37</td>\n",
       "      <td>2020-08-07</td>\n",
       "    </tr>\n",
       "    <tr>\n",
       "      <th>3</th>\n",
       "      <td>o79pns1qwo</td>\n",
       "      <td>GB</td>\n",
       "      <td>s0p322hh</td>\n",
       "      <td>GB</td>\n",
       "      <td>t50xe7moye8v</td>\n",
       "      <td>Tops - Mens</td>\n",
       "      <td>Berghaus</td>\n",
       "      <td>GBP</td>\n",
       "      <td>25.27</td>\n",
       "      <td>2020-08-09</td>\n",
       "    </tr>\n",
       "    <tr>\n",
       "      <th>4</th>\n",
       "      <td>o79pns1qwo</td>\n",
       "      <td>GB</td>\n",
       "      <td>dpkx192v</td>\n",
       "      <td>GB</td>\n",
       "      <td>hp4r9bjq68af</td>\n",
       "      <td>Bottoms - Womens</td>\n",
       "      <td>NaN</td>\n",
       "      <td>GBP</td>\n",
       "      <td>8.90</td>\n",
       "      <td>2020-08-09</td>\n",
       "    </tr>\n",
       "    <tr>\n",
       "      <th>...</th>\n",
       "      <td>...</td>\n",
       "      <td>...</td>\n",
       "      <td>...</td>\n",
       "      <td>...</td>\n",
       "      <td>...</td>\n",
       "      <td>...</td>\n",
       "      <td>...</td>\n",
       "      <td>...</td>\n",
       "      <td>...</td>\n",
       "      <td>...</td>\n",
       "    </tr>\n",
       "    <tr>\n",
       "      <th>237666</th>\n",
       "      <td>p7ibf7soot</td>\n",
       "      <td>GB</td>\n",
       "      <td>ss7jy9ks</td>\n",
       "      <td>GB</td>\n",
       "      <td>hzc7pmjxmsb6</td>\n",
       "      <td>Bottoms - Womens</td>\n",
       "      <td>NaN</td>\n",
       "      <td>GBP</td>\n",
       "      <td>17.11</td>\n",
       "      <td>2020-08-06</td>\n",
       "    </tr>\n",
       "    <tr>\n",
       "      <th>237667</th>\n",
       "      <td>2hg8zirueq</td>\n",
       "      <td>US</td>\n",
       "      <td>bk6apusi</td>\n",
       "      <td>US</td>\n",
       "      <td>fskn84lfyrvz</td>\n",
       "      <td>Home</td>\n",
       "      <td>NaN</td>\n",
       "      <td>USD</td>\n",
       "      <td>69.00</td>\n",
       "      <td>2020-08-05</td>\n",
       "    </tr>\n",
       "    <tr>\n",
       "      <th>237668</th>\n",
       "      <td>k5hmcfxcs6</td>\n",
       "      <td>GB</td>\n",
       "      <td>n2ez0xph</td>\n",
       "      <td>GB</td>\n",
       "      <td>5afe7yhdpcmz</td>\n",
       "      <td>Other</td>\n",
       "      <td>NaN</td>\n",
       "      <td>GBP</td>\n",
       "      <td>58.28</td>\n",
       "      <td>2020-08-05</td>\n",
       "    </tr>\n",
       "    <tr>\n",
       "      <th>237669</th>\n",
       "      <td>ca8nc8qv1x</td>\n",
       "      <td>GB</td>\n",
       "      <td>j1s4nqxb</td>\n",
       "      <td>GB</td>\n",
       "      <td>ktdrjbrq0fo2</td>\n",
       "      <td>Shoes</td>\n",
       "      <td>NaN</td>\n",
       "      <td>GBP</td>\n",
       "      <td>9.46</td>\n",
       "      <td>2020-08-05</td>\n",
       "    </tr>\n",
       "    <tr>\n",
       "      <th>237670</th>\n",
       "      <td>z09h7w9zcd</td>\n",
       "      <td>US</td>\n",
       "      <td>0au7baxi</td>\n",
       "      <td>US</td>\n",
       "      <td>0r1qni2g1zi4</td>\n",
       "      <td>Other</td>\n",
       "      <td>NaN</td>\n",
       "      <td>USD</td>\n",
       "      <td>160.76</td>\n",
       "      <td>2020-08-06</td>\n",
       "    </tr>\n",
       "  </tbody>\n",
       "</table>\n",
       "<p>237671 rows × 10 columns</p>\n",
       "</div>"
      ],
      "text/plain": [
       "          buyer_id buyer_country seller_id seller_country  product_code  \\\n",
       "0       qzpjsi9t0o            GB  6oufpaot             GB  ydecnydr6obf   \n",
       "1       o79pns1qwo            GB  50xki2yg             GB  38chj507o6h2   \n",
       "2       sjgbjdkhqx            GB  50xki2yg             GB  i9ynyxj5tdp8   \n",
       "3       o79pns1qwo            GB  s0p322hh             GB  t50xe7moye8v   \n",
       "4       o79pns1qwo            GB  dpkx192v             GB  hp4r9bjq68af   \n",
       "...            ...           ...       ...            ...           ...   \n",
       "237666  p7ibf7soot            GB  ss7jy9ks             GB  hzc7pmjxmsb6   \n",
       "237667  2hg8zirueq            US  bk6apusi             US  fskn84lfyrvz   \n",
       "237668  k5hmcfxcs6            GB  n2ez0xph             GB  5afe7yhdpcmz   \n",
       "237669  ca8nc8qv1x            GB  j1s4nqxb             GB  ktdrjbrq0fo2   \n",
       "237670  z09h7w9zcd            US  0au7baxi             US  0r1qni2g1zi4   \n",
       "\n",
       "                category             brand currency   price        date  \n",
       "0                Dresses               NaN      GBP   19.11  2020-08-03  \n",
       "1              Outerwear  Adidas Originals      GBP   15.92  2020-08-09  \n",
       "2            Tops - Mens               NaN      GBP    6.37  2020-08-07  \n",
       "3            Tops - Mens          Berghaus      GBP   25.27  2020-08-09  \n",
       "4       Bottoms - Womens               NaN      GBP    8.90  2020-08-09  \n",
       "...                  ...               ...      ...     ...         ...  \n",
       "237666  Bottoms - Womens               NaN      GBP   17.11  2020-08-06  \n",
       "237667              Home               NaN      USD   69.00  2020-08-05  \n",
       "237668             Other               NaN      GBP   58.28  2020-08-05  \n",
       "237669             Shoes               NaN      GBP    9.46  2020-08-05  \n",
       "237670             Other               NaN      USD  160.76  2020-08-06  \n",
       "\n",
       "[237671 rows x 10 columns]"
      ]
     },
     "execution_count": 193,
     "metadata": {},
     "output_type": "execute_result"
    }
   ],
   "source": [
    "df1 = pd.read_csv(\"sales_082020.csv\")\n",
    "df1"
   ]
  },
  {
   "cell_type": "code",
   "execution_count": 194,
   "metadata": {},
   "outputs": [
    {
     "data": {
      "text/html": [
       "<div>\n",
       "<style scoped>\n",
       "    .dataframe tbody tr th:only-of-type {\n",
       "        vertical-align: middle;\n",
       "    }\n",
       "\n",
       "    .dataframe tbody tr th {\n",
       "        vertical-align: top;\n",
       "    }\n",
       "\n",
       "    .dataframe thead th {\n",
       "        text-align: right;\n",
       "    }\n",
       "</style>\n",
       "<table border=\"1\" class=\"dataframe\">\n",
       "  <thead>\n",
       "    <tr style=\"text-align: right;\">\n",
       "      <th></th>\n",
       "      <th>currency</th>\n",
       "      <th>date</th>\n",
       "      <th>rate</th>\n",
       "    </tr>\n",
       "  </thead>\n",
       "  <tbody>\n",
       "    <tr>\n",
       "      <th>0</th>\n",
       "      <td>EUR</td>\n",
       "      <td>8/1/2020</td>\n",
       "      <td>1.0000</td>\n",
       "    </tr>\n",
       "    <tr>\n",
       "      <th>1</th>\n",
       "      <td>EUR</td>\n",
       "      <td>8/2/2020</td>\n",
       "      <td>1.0000</td>\n",
       "    </tr>\n",
       "    <tr>\n",
       "      <th>2</th>\n",
       "      <td>EUR</td>\n",
       "      <td>8/3/2020</td>\n",
       "      <td>1.0000</td>\n",
       "    </tr>\n",
       "    <tr>\n",
       "      <th>3</th>\n",
       "      <td>EUR</td>\n",
       "      <td>8/4/2020</td>\n",
       "      <td>1.0000</td>\n",
       "    </tr>\n",
       "    <tr>\n",
       "      <th>4</th>\n",
       "      <td>EUR</td>\n",
       "      <td>8/5/2020</td>\n",
       "      <td>1.0000</td>\n",
       "    </tr>\n",
       "    <tr>\n",
       "      <th>...</th>\n",
       "      <td>...</td>\n",
       "      <td>...</td>\n",
       "      <td>...</td>\n",
       "    </tr>\n",
       "    <tr>\n",
       "      <th>215</th>\n",
       "      <td>BRL</td>\n",
       "      <td>8/6/2020</td>\n",
       "      <td>6.3324</td>\n",
       "    </tr>\n",
       "    <tr>\n",
       "      <th>216</th>\n",
       "      <td>BRL</td>\n",
       "      <td>8/7/2020</td>\n",
       "      <td>6.4111</td>\n",
       "    </tr>\n",
       "    <tr>\n",
       "      <th>217</th>\n",
       "      <td>BRL</td>\n",
       "      <td>8/8/2020</td>\n",
       "      <td>6.4111</td>\n",
       "    </tr>\n",
       "    <tr>\n",
       "      <th>218</th>\n",
       "      <td>BRL</td>\n",
       "      <td>8/9/2020</td>\n",
       "      <td>6.4111</td>\n",
       "    </tr>\n",
       "    <tr>\n",
       "      <th>219</th>\n",
       "      <td>BRL</td>\n",
       "      <td>8/10/2020</td>\n",
       "      <td>6.4351</td>\n",
       "    </tr>\n",
       "  </tbody>\n",
       "</table>\n",
       "<p>220 rows × 3 columns</p>\n",
       "</div>"
      ],
      "text/plain": [
       "    currency       date    rate\n",
       "0        EUR   8/1/2020  1.0000\n",
       "1        EUR   8/2/2020  1.0000\n",
       "2        EUR   8/3/2020  1.0000\n",
       "3        EUR   8/4/2020  1.0000\n",
       "4        EUR   8/5/2020  1.0000\n",
       "..       ...        ...     ...\n",
       "215      BRL   8/6/2020  6.3324\n",
       "216      BRL   8/7/2020  6.4111\n",
       "217      BRL   8/8/2020  6.4111\n",
       "218      BRL   8/9/2020  6.4111\n",
       "219      BRL  8/10/2020  6.4351\n",
       "\n",
       "[220 rows x 3 columns]"
      ]
     },
     "execution_count": 194,
     "metadata": {},
     "output_type": "execute_result"
    }
   ],
   "source": [
    "df2 = pd.read_csv(\"currency_rates_082020_EUR.csv\")\n",
    "df2"
   ]
  },
  {
   "cell_type": "markdown",
   "metadata": {},
   "source": [
    "## 1. How many rows in the sales dataset?"
   ]
  },
  {
   "cell_type": "code",
   "execution_count": 191,
   "metadata": {},
   "outputs": [
    {
     "data": {
      "text/plain": [
       "237671"
      ]
     },
     "execution_count": 191,
     "metadata": {},
     "output_type": "execute_result"
    }
   ],
   "source": [
    "df1.shape[0]"
   ]
  },
  {
   "cell_type": "markdown",
   "metadata": {},
   "source": [
    "## 2. How many columns in the sales dataset?"
   ]
  },
  {
   "cell_type": "code",
   "execution_count": 192,
   "metadata": {},
   "outputs": [
    {
     "data": {
      "text/plain": [
       "10"
      ]
     },
     "execution_count": 192,
     "metadata": {},
     "output_type": "execute_result"
    }
   ],
   "source": [
    "df1.shape[1]"
   ]
  },
  {
   "cell_type": "markdown",
   "metadata": {},
   "source": [
    "## 3. What is the total number of sellers?"
   ]
  },
  {
   "cell_type": "code",
   "execution_count": 197,
   "metadata": {},
   "outputs": [
    {
     "data": {
      "text/plain": [
       "114227"
      ]
     },
     "execution_count": 197,
     "metadata": {},
     "output_type": "execute_result"
    }
   ],
   "source": [
    "len(df1.seller_id.unique())"
   ]
  },
  {
   "cell_type": "code",
   "execution_count": 198,
   "metadata": {},
   "outputs": [],
   "source": [
    "df1[\"date\"] = pd.to_datetime(df1[\"date\"])\n",
    "df2[\"date\"] = pd.to_datetime(df2[\"date\"])"
   ]
  },
  {
   "cell_type": "code",
   "execution_count": 199,
   "metadata": {},
   "outputs": [
    {
     "data": {
      "text/html": [
       "<div>\n",
       "<style scoped>\n",
       "    .dataframe tbody tr th:only-of-type {\n",
       "        vertical-align: middle;\n",
       "    }\n",
       "\n",
       "    .dataframe tbody tr th {\n",
       "        vertical-align: top;\n",
       "    }\n",
       "\n",
       "    .dataframe thead th {\n",
       "        text-align: right;\n",
       "    }\n",
       "</style>\n",
       "<table border=\"1\" class=\"dataframe\">\n",
       "  <thead>\n",
       "    <tr style=\"text-align: right;\">\n",
       "      <th></th>\n",
       "      <th>buyer_id</th>\n",
       "      <th>buyer_country</th>\n",
       "      <th>seller_id</th>\n",
       "      <th>seller_country</th>\n",
       "      <th>product_code</th>\n",
       "      <th>category</th>\n",
       "      <th>brand</th>\n",
       "      <th>currency</th>\n",
       "      <th>price</th>\n",
       "      <th>date</th>\n",
       "      <th>rate</th>\n",
       "    </tr>\n",
       "  </thead>\n",
       "  <tbody>\n",
       "    <tr>\n",
       "      <th>0</th>\n",
       "      <td>qzpjsi9t0o</td>\n",
       "      <td>GB</td>\n",
       "      <td>6oufpaot</td>\n",
       "      <td>GB</td>\n",
       "      <td>ydecnydr6obf</td>\n",
       "      <td>Dresses</td>\n",
       "      <td>NaN</td>\n",
       "      <td>GBP</td>\n",
       "      <td>19.11</td>\n",
       "      <td>2020-08-03</td>\n",
       "      <td>0.89935</td>\n",
       "    </tr>\n",
       "    <tr>\n",
       "      <th>1</th>\n",
       "      <td>rd209r8c7c</td>\n",
       "      <td>GB</td>\n",
       "      <td>9p2ansc9</td>\n",
       "      <td>GB</td>\n",
       "      <td>wpxxf59cq7pc</td>\n",
       "      <td>Outerwear - Mens</td>\n",
       "      <td>Adidas Originals</td>\n",
       "      <td>GBP</td>\n",
       "      <td>24.91</td>\n",
       "      <td>2020-08-03</td>\n",
       "      <td>0.89935</td>\n",
       "    </tr>\n",
       "    <tr>\n",
       "      <th>2</th>\n",
       "      <td>pqbcrl8azx</td>\n",
       "      <td>GB</td>\n",
       "      <td>r9zmzem8</td>\n",
       "      <td>GB</td>\n",
       "      <td>ua9mmn86wsqy</td>\n",
       "      <td>Tops - Womens</td>\n",
       "      <td>NaN</td>\n",
       "      <td>GBP</td>\n",
       "      <td>19.31</td>\n",
       "      <td>2020-08-03</td>\n",
       "      <td>0.89935</td>\n",
       "    </tr>\n",
       "    <tr>\n",
       "      <th>3</th>\n",
       "      <td>j5en1rwmxp</td>\n",
       "      <td>GB</td>\n",
       "      <td>3o2nz88r</td>\n",
       "      <td>GB</td>\n",
       "      <td>tduo2uy8iszl</td>\n",
       "      <td>Bottoms - Womens</td>\n",
       "      <td>Urban Outfitters</td>\n",
       "      <td>GBP</td>\n",
       "      <td>16.98</td>\n",
       "      <td>2020-08-03</td>\n",
       "      <td>0.89935</td>\n",
       "    </tr>\n",
       "    <tr>\n",
       "      <th>4</th>\n",
       "      <td>kjdezxeh1l</td>\n",
       "      <td>GB</td>\n",
       "      <td>7g56ublf</td>\n",
       "      <td>GB</td>\n",
       "      <td>39o00tcu89zq</td>\n",
       "      <td>Other</td>\n",
       "      <td>NaN</td>\n",
       "      <td>GBP</td>\n",
       "      <td>2.85</td>\n",
       "      <td>2020-08-03</td>\n",
       "      <td>0.89935</td>\n",
       "    </tr>\n",
       "    <tr>\n",
       "      <th>...</th>\n",
       "      <td>...</td>\n",
       "      <td>...</td>\n",
       "      <td>...</td>\n",
       "      <td>...</td>\n",
       "      <td>...</td>\n",
       "      <td>...</td>\n",
       "      <td>...</td>\n",
       "      <td>...</td>\n",
       "      <td>...</td>\n",
       "      <td>...</td>\n",
       "      <td>...</td>\n",
       "    </tr>\n",
       "    <tr>\n",
       "      <th>237666</th>\n",
       "      <td>d7dx6f3qv7</td>\n",
       "      <td>RoW</td>\n",
       "      <td>e2p108mu</td>\n",
       "      <td>RoW</td>\n",
       "      <td>nan9a4p10ayk</td>\n",
       "      <td>Tops - Mens</td>\n",
       "      <td>NaN</td>\n",
       "      <td>PLN</td>\n",
       "      <td>4.24</td>\n",
       "      <td>2020-08-04</td>\n",
       "      <td>4.39693</td>\n",
       "    </tr>\n",
       "    <tr>\n",
       "      <th>237667</th>\n",
       "      <td>iaf2ck3rj6</td>\n",
       "      <td>IT</td>\n",
       "      <td>gjb1qntq</td>\n",
       "      <td>RoW</td>\n",
       "      <td>lxj477q1hab2</td>\n",
       "      <td>Accessories</td>\n",
       "      <td>NaN</td>\n",
       "      <td>CZK</td>\n",
       "      <td>3923.18</td>\n",
       "      <td>2020-08-04</td>\n",
       "      <td>26.12360</td>\n",
       "    </tr>\n",
       "    <tr>\n",
       "      <th>237668</th>\n",
       "      <td>tucgt70cwc</td>\n",
       "      <td>AU</td>\n",
       "      <td>9adnlxvr</td>\n",
       "      <td>RoW</td>\n",
       "      <td>2g0g0obhwjuc</td>\n",
       "      <td>Jewellery</td>\n",
       "      <td>NaN</td>\n",
       "      <td>PLN</td>\n",
       "      <td>525.82</td>\n",
       "      <td>2020-08-09</td>\n",
       "      <td>4.41427</td>\n",
       "    </tr>\n",
       "    <tr>\n",
       "      <th>237669</th>\n",
       "      <td>rrfjxzbdxu</td>\n",
       "      <td>US</td>\n",
       "      <td>w2pozh7u</td>\n",
       "      <td>US</td>\n",
       "      <td>5mm5eg99xbu2</td>\n",
       "      <td>Bottoms - Womens</td>\n",
       "      <td>Brandy Melville</td>\n",
       "      <td>BRL</td>\n",
       "      <td>34.92</td>\n",
       "      <td>2020-08-06</td>\n",
       "      <td>6.33240</td>\n",
       "    </tr>\n",
       "    <tr>\n",
       "      <th>237670</th>\n",
       "      <td>wnmihth4io</td>\n",
       "      <td>GB</td>\n",
       "      <td>5yogzc17</td>\n",
       "      <td>RoW</td>\n",
       "      <td>wrgq88ujwh5d</td>\n",
       "      <td>Bottoms - Womens</td>\n",
       "      <td>NaN</td>\n",
       "      <td>NOK</td>\n",
       "      <td>533.06</td>\n",
       "      <td>2020-08-08</td>\n",
       "      <td>10.64540</td>\n",
       "    </tr>\n",
       "  </tbody>\n",
       "</table>\n",
       "<p>237671 rows × 11 columns</p>\n",
       "</div>"
      ],
      "text/plain": [
       "          buyer_id buyer_country seller_id seller_country  product_code  \\\n",
       "0       qzpjsi9t0o            GB  6oufpaot             GB  ydecnydr6obf   \n",
       "1       rd209r8c7c            GB  9p2ansc9             GB  wpxxf59cq7pc   \n",
       "2       pqbcrl8azx            GB  r9zmzem8             GB  ua9mmn86wsqy   \n",
       "3       j5en1rwmxp            GB  3o2nz88r             GB  tduo2uy8iszl   \n",
       "4       kjdezxeh1l            GB  7g56ublf             GB  39o00tcu89zq   \n",
       "...            ...           ...       ...            ...           ...   \n",
       "237666  d7dx6f3qv7           RoW  e2p108mu            RoW  nan9a4p10ayk   \n",
       "237667  iaf2ck3rj6            IT  gjb1qntq            RoW  lxj477q1hab2   \n",
       "237668  tucgt70cwc            AU  9adnlxvr            RoW  2g0g0obhwjuc   \n",
       "237669  rrfjxzbdxu            US  w2pozh7u             US  5mm5eg99xbu2   \n",
       "237670  wnmihth4io            GB  5yogzc17            RoW  wrgq88ujwh5d   \n",
       "\n",
       "                category             brand currency    price       date  \\\n",
       "0                Dresses               NaN      GBP    19.11 2020-08-03   \n",
       "1       Outerwear - Mens  Adidas Originals      GBP    24.91 2020-08-03   \n",
       "2          Tops - Womens               NaN      GBP    19.31 2020-08-03   \n",
       "3       Bottoms - Womens  Urban Outfitters      GBP    16.98 2020-08-03   \n",
       "4                  Other               NaN      GBP     2.85 2020-08-03   \n",
       "...                  ...               ...      ...      ...        ...   \n",
       "237666       Tops - Mens               NaN      PLN     4.24 2020-08-04   \n",
       "237667       Accessories               NaN      CZK  3923.18 2020-08-04   \n",
       "237668         Jewellery               NaN      PLN   525.82 2020-08-09   \n",
       "237669  Bottoms - Womens   Brandy Melville      BRL    34.92 2020-08-06   \n",
       "237670  Bottoms - Womens               NaN      NOK   533.06 2020-08-08   \n",
       "\n",
       "            rate  \n",
       "0        0.89935  \n",
       "1        0.89935  \n",
       "2        0.89935  \n",
       "3        0.89935  \n",
       "4        0.89935  \n",
       "...          ...  \n",
       "237666   4.39693  \n",
       "237667  26.12360  \n",
       "237668   4.41427  \n",
       "237669   6.33240  \n",
       "237670  10.64540  \n",
       "\n",
       "[237671 rows x 11 columns]"
      ]
     },
     "execution_count": 199,
     "metadata": {},
     "output_type": "execute_result"
    }
   ],
   "source": [
    "df = pd.merge(df1, df2, how='inner', on=['currency', 'date'])\n",
    "df"
   ]
  },
  {
   "cell_type": "code",
   "execution_count": 200,
   "metadata": {},
   "outputs": [
    {
     "data": {
      "text/html": [
       "<div>\n",
       "<style scoped>\n",
       "    .dataframe tbody tr th:only-of-type {\n",
       "        vertical-align: middle;\n",
       "    }\n",
       "\n",
       "    .dataframe tbody tr th {\n",
       "        vertical-align: top;\n",
       "    }\n",
       "\n",
       "    .dataframe thead th {\n",
       "        text-align: right;\n",
       "    }\n",
       "</style>\n",
       "<table border=\"1\" class=\"dataframe\">\n",
       "  <thead>\n",
       "    <tr style=\"text-align: right;\">\n",
       "      <th></th>\n",
       "      <th>buyer_id</th>\n",
       "      <th>buyer_country</th>\n",
       "      <th>seller_id</th>\n",
       "      <th>seller_country</th>\n",
       "      <th>product_code</th>\n",
       "      <th>category</th>\n",
       "      <th>brand</th>\n",
       "      <th>currency</th>\n",
       "      <th>price</th>\n",
       "      <th>date</th>\n",
       "      <th>rate</th>\n",
       "      <th>conv</th>\n",
       "    </tr>\n",
       "  </thead>\n",
       "  <tbody>\n",
       "    <tr>\n",
       "      <th>0</th>\n",
       "      <td>qzpjsi9t0o</td>\n",
       "      <td>GB</td>\n",
       "      <td>6oufpaot</td>\n",
       "      <td>GB</td>\n",
       "      <td>ydecnydr6obf</td>\n",
       "      <td>Dresses</td>\n",
       "      <td>NaN</td>\n",
       "      <td>GBP</td>\n",
       "      <td>19.11</td>\n",
       "      <td>2020-08-03</td>\n",
       "      <td>0.89935</td>\n",
       "      <td>21.248680</td>\n",
       "    </tr>\n",
       "    <tr>\n",
       "      <th>1</th>\n",
       "      <td>rd209r8c7c</td>\n",
       "      <td>GB</td>\n",
       "      <td>9p2ansc9</td>\n",
       "      <td>GB</td>\n",
       "      <td>wpxxf59cq7pc</td>\n",
       "      <td>Outerwear - Mens</td>\n",
       "      <td>Adidas Originals</td>\n",
       "      <td>GBP</td>\n",
       "      <td>24.91</td>\n",
       "      <td>2020-08-03</td>\n",
       "      <td>0.89935</td>\n",
       "      <td>27.697782</td>\n",
       "    </tr>\n",
       "    <tr>\n",
       "      <th>2</th>\n",
       "      <td>pqbcrl8azx</td>\n",
       "      <td>GB</td>\n",
       "      <td>r9zmzem8</td>\n",
       "      <td>GB</td>\n",
       "      <td>ua9mmn86wsqy</td>\n",
       "      <td>Tops - Womens</td>\n",
       "      <td>NaN</td>\n",
       "      <td>GBP</td>\n",
       "      <td>19.31</td>\n",
       "      <td>2020-08-03</td>\n",
       "      <td>0.89935</td>\n",
       "      <td>21.471062</td>\n",
       "    </tr>\n",
       "    <tr>\n",
       "      <th>3</th>\n",
       "      <td>j5en1rwmxp</td>\n",
       "      <td>GB</td>\n",
       "      <td>3o2nz88r</td>\n",
       "      <td>GB</td>\n",
       "      <td>tduo2uy8iszl</td>\n",
       "      <td>Bottoms - Womens</td>\n",
       "      <td>Urban Outfitters</td>\n",
       "      <td>GBP</td>\n",
       "      <td>16.98</td>\n",
       "      <td>2020-08-03</td>\n",
       "      <td>0.89935</td>\n",
       "      <td>18.880302</td>\n",
       "    </tr>\n",
       "    <tr>\n",
       "      <th>4</th>\n",
       "      <td>kjdezxeh1l</td>\n",
       "      <td>GB</td>\n",
       "      <td>7g56ublf</td>\n",
       "      <td>GB</td>\n",
       "      <td>39o00tcu89zq</td>\n",
       "      <td>Other</td>\n",
       "      <td>NaN</td>\n",
       "      <td>GBP</td>\n",
       "      <td>2.85</td>\n",
       "      <td>2020-08-03</td>\n",
       "      <td>0.89935</td>\n",
       "      <td>3.168955</td>\n",
       "    </tr>\n",
       "    <tr>\n",
       "      <th>...</th>\n",
       "      <td>...</td>\n",
       "      <td>...</td>\n",
       "      <td>...</td>\n",
       "      <td>...</td>\n",
       "      <td>...</td>\n",
       "      <td>...</td>\n",
       "      <td>...</td>\n",
       "      <td>...</td>\n",
       "      <td>...</td>\n",
       "      <td>...</td>\n",
       "      <td>...</td>\n",
       "      <td>...</td>\n",
       "    </tr>\n",
       "    <tr>\n",
       "      <th>237666</th>\n",
       "      <td>d7dx6f3qv7</td>\n",
       "      <td>RoW</td>\n",
       "      <td>e2p108mu</td>\n",
       "      <td>RoW</td>\n",
       "      <td>nan9a4p10ayk</td>\n",
       "      <td>Tops - Mens</td>\n",
       "      <td>NaN</td>\n",
       "      <td>PLN</td>\n",
       "      <td>4.24</td>\n",
       "      <td>2020-08-04</td>\n",
       "      <td>4.39693</td>\n",
       "      <td>0.964309</td>\n",
       "    </tr>\n",
       "    <tr>\n",
       "      <th>237667</th>\n",
       "      <td>iaf2ck3rj6</td>\n",
       "      <td>IT</td>\n",
       "      <td>gjb1qntq</td>\n",
       "      <td>RoW</td>\n",
       "      <td>lxj477q1hab2</td>\n",
       "      <td>Accessories</td>\n",
       "      <td>NaN</td>\n",
       "      <td>CZK</td>\n",
       "      <td>3923.18</td>\n",
       "      <td>2020-08-04</td>\n",
       "      <td>26.12360</td>\n",
       "      <td>150.177617</td>\n",
       "    </tr>\n",
       "    <tr>\n",
       "      <th>237668</th>\n",
       "      <td>tucgt70cwc</td>\n",
       "      <td>AU</td>\n",
       "      <td>9adnlxvr</td>\n",
       "      <td>RoW</td>\n",
       "      <td>2g0g0obhwjuc</td>\n",
       "      <td>Jewellery</td>\n",
       "      <td>NaN</td>\n",
       "      <td>PLN</td>\n",
       "      <td>525.82</td>\n",
       "      <td>2020-08-09</td>\n",
       "      <td>4.41427</td>\n",
       "      <td>119.118223</td>\n",
       "    </tr>\n",
       "    <tr>\n",
       "      <th>237669</th>\n",
       "      <td>rrfjxzbdxu</td>\n",
       "      <td>US</td>\n",
       "      <td>w2pozh7u</td>\n",
       "      <td>US</td>\n",
       "      <td>5mm5eg99xbu2</td>\n",
       "      <td>Bottoms - Womens</td>\n",
       "      <td>Brandy Melville</td>\n",
       "      <td>BRL</td>\n",
       "      <td>34.92</td>\n",
       "      <td>2020-08-06</td>\n",
       "      <td>6.33240</td>\n",
       "      <td>5.514497</td>\n",
       "    </tr>\n",
       "    <tr>\n",
       "      <th>237670</th>\n",
       "      <td>wnmihth4io</td>\n",
       "      <td>GB</td>\n",
       "      <td>5yogzc17</td>\n",
       "      <td>RoW</td>\n",
       "      <td>wrgq88ujwh5d</td>\n",
       "      <td>Bottoms - Womens</td>\n",
       "      <td>NaN</td>\n",
       "      <td>NOK</td>\n",
       "      <td>533.06</td>\n",
       "      <td>2020-08-08</td>\n",
       "      <td>10.64540</td>\n",
       "      <td>50.074210</td>\n",
       "    </tr>\n",
       "  </tbody>\n",
       "</table>\n",
       "<p>237671 rows × 12 columns</p>\n",
       "</div>"
      ],
      "text/plain": [
       "          buyer_id buyer_country seller_id seller_country  product_code  \\\n",
       "0       qzpjsi9t0o            GB  6oufpaot             GB  ydecnydr6obf   \n",
       "1       rd209r8c7c            GB  9p2ansc9             GB  wpxxf59cq7pc   \n",
       "2       pqbcrl8azx            GB  r9zmzem8             GB  ua9mmn86wsqy   \n",
       "3       j5en1rwmxp            GB  3o2nz88r             GB  tduo2uy8iszl   \n",
       "4       kjdezxeh1l            GB  7g56ublf             GB  39o00tcu89zq   \n",
       "...            ...           ...       ...            ...           ...   \n",
       "237666  d7dx6f3qv7           RoW  e2p108mu            RoW  nan9a4p10ayk   \n",
       "237667  iaf2ck3rj6            IT  gjb1qntq            RoW  lxj477q1hab2   \n",
       "237668  tucgt70cwc            AU  9adnlxvr            RoW  2g0g0obhwjuc   \n",
       "237669  rrfjxzbdxu            US  w2pozh7u             US  5mm5eg99xbu2   \n",
       "237670  wnmihth4io            GB  5yogzc17            RoW  wrgq88ujwh5d   \n",
       "\n",
       "                category             brand currency    price       date  \\\n",
       "0                Dresses               NaN      GBP    19.11 2020-08-03   \n",
       "1       Outerwear - Mens  Adidas Originals      GBP    24.91 2020-08-03   \n",
       "2          Tops - Womens               NaN      GBP    19.31 2020-08-03   \n",
       "3       Bottoms - Womens  Urban Outfitters      GBP    16.98 2020-08-03   \n",
       "4                  Other               NaN      GBP     2.85 2020-08-03   \n",
       "...                  ...               ...      ...      ...        ...   \n",
       "237666       Tops - Mens               NaN      PLN     4.24 2020-08-04   \n",
       "237667       Accessories               NaN      CZK  3923.18 2020-08-04   \n",
       "237668         Jewellery               NaN      PLN   525.82 2020-08-09   \n",
       "237669  Bottoms - Womens   Brandy Melville      BRL    34.92 2020-08-06   \n",
       "237670  Bottoms - Womens               NaN      NOK   533.06 2020-08-08   \n",
       "\n",
       "            rate        conv  \n",
       "0        0.89935   21.248680  \n",
       "1        0.89935   27.697782  \n",
       "2        0.89935   21.471062  \n",
       "3        0.89935   18.880302  \n",
       "4        0.89935    3.168955  \n",
       "...          ...         ...  \n",
       "237666   4.39693    0.964309  \n",
       "237667  26.12360  150.177617  \n",
       "237668   4.41427  119.118223  \n",
       "237669   6.33240    5.514497  \n",
       "237670  10.64540   50.074210  \n",
       "\n",
       "[237671 rows x 12 columns]"
      ]
     },
     "execution_count": 200,
     "metadata": {},
     "output_type": "execute_result"
    }
   ],
   "source": [
    "df['conv'] = df.price / df.rate\n",
    "df"
   ]
  },
  {
   "cell_type": "code",
   "execution_count": null,
   "metadata": {},
   "outputs": [],
   "source": []
  },
  {
   "cell_type": "markdown",
   "metadata": {},
   "source": [
    "## 4. What is the total value of sales in EUR?"
   ]
  },
  {
   "cell_type": "code",
   "execution_count": 202,
   "metadata": {},
   "outputs": [
    {
     "data": {
      "text/plain": [
       "6471511"
      ]
     },
     "execution_count": 202,
     "metadata": {},
     "output_type": "execute_result"
    }
   ],
   "source": [
    "round(df.conv.sum())"
   ]
  },
  {
   "cell_type": "markdown",
   "metadata": {},
   "source": [
    "## 5. Which brand has the highest number of purchases during the period?"
   ]
  },
  {
   "cell_type": "code",
   "execution_count": 208,
   "metadata": {},
   "outputs": [
    {
     "data": {
      "text/plain": [
       "Nike                  9575\n",
       "Brandy Melville       5065\n",
       "Topshop               4561\n",
       "PrettyLittle Thing    4136\n",
       "Adidas                3905\n",
       "                      ... \n",
       "Filson                   1\n",
       "Surf Gypsy               1\n",
       "Chaser                   1\n",
       "All Things Mochi         1\n",
       "KTZ                      1\n",
       "Name: brand, Length: 1134, dtype: int64"
      ]
     },
     "execution_count": 208,
     "metadata": {},
     "output_type": "execute_result"
    }
   ],
   "source": [
    "df.brand.value_counts()"
   ]
  },
  {
   "cell_type": "markdown",
   "metadata": {},
   "source": [
    "## 6. How many items in the “Jewelry” category have no brand associated with them? (10931)"
   ]
  },
  {
   "cell_type": "code",
   "execution_count": null,
   "metadata": {},
   "outputs": [],
   "source": []
  },
  {
   "cell_type": "code",
   "execution_count": 219,
   "metadata": {},
   "outputs": [
    {
     "data": {
      "text/plain": [
       "buyer_id          14923\n",
       "buyer_country     14923\n",
       "seller_id         14923\n",
       "seller_country    14923\n",
       "product_code      14923\n",
       "category          14923\n",
       "brand              1398\n",
       "currency          14923\n",
       "price             14923\n",
       "date              14923\n",
       "rate              14923\n",
       "conv              14923\n",
       "dtype: int64"
      ]
     },
     "execution_count": 219,
     "metadata": {},
     "output_type": "execute_result"
    }
   ],
   "source": [
    "df[(df.category == \"Jewellery\")].count()"
   ]
  },
  {
   "cell_type": "code",
   "execution_count": 221,
   "metadata": {},
   "outputs": [
    {
     "data": {
      "text/plain": [
       "12        NaN\n",
       "13        NaN\n",
       "14        NaN\n",
       "17        NaN\n",
       "18        NaN\n",
       "         ... \n",
       "237559    NaN\n",
       "237603    NaN\n",
       "237605    NaN\n",
       "237644    NaN\n",
       "237668    NaN\n",
       "Name: brand, Length: 14923, dtype: object"
      ]
     },
     "execution_count": 221,
     "metadata": {},
     "output_type": "execute_result"
    }
   ],
   "source": [
    "df[(df.category == \"Jewellery\")]['brand']"
   ]
  },
  {
   "cell_type": "code",
   "execution_count": 223,
   "metadata": {},
   "outputs": [
    {
     "data": {
      "text/plain": [
       "13525"
      ]
     },
     "execution_count": 223,
     "metadata": {},
     "output_type": "execute_result"
    }
   ],
   "source": [
    "df[(df.category == \"Jewellery\")]['brand'].isnull().sum()"
   ]
  },
  {
   "cell_type": "code",
   "execution_count": 220,
   "metadata": {},
   "outputs": [
    {
     "data": {
      "text/plain": [
       "13525"
      ]
     },
     "execution_count": 220,
     "metadata": {},
     "output_type": "execute_result"
    }
   ],
   "source": [
    "14923 - 1398"
   ]
  },
  {
   "cell_type": "markdown",
   "metadata": {},
   "source": [
    "## 7. How many brands have between 35 and 55 transactions (inclusive)?"
   ]
  },
  {
   "cell_type": "code",
   "execution_count": 215,
   "metadata": {},
   "outputs": [
    {
     "data": {
      "text/plain": [
       "81"
      ]
     },
     "execution_count": 215,
     "metadata": {},
     "output_type": "execute_result"
    }
   ],
   "source": [
    "((df.brand.value_counts() < 56) & (df.brand.value_counts() > 34)).sum()"
   ]
  },
  {
   "cell_type": "markdown",
   "metadata": {},
   "source": [
    "## 8. How many pairs of shoes were purchased by Australian (AU) buyers?"
   ]
  },
  {
   "cell_type": "code",
   "execution_count": 216,
   "metadata": {},
   "outputs": [
    {
     "data": {
      "text/plain": [
       "array(['Dresses', 'Outerwear - Mens', 'Tops - Womens', 'Bottoms - Womens',\n",
       "       'Other', 'Accessories', 'Jewellery', 'Home', 'Music', 'Shoes',\n",
       "       'Tops - Mens', 'Beauty', 'Bottoms - Mens', 'Art', 'Lingerie',\n",
       "       'Outerwear', 'Tech', 'Sports equipment', 'Books & magazines',\n",
       "       'Kids', 'Underwear', 'Transportation', 'Film', nan, 'UNSPECIFIED'],\n",
       "      dtype=object)"
      ]
     },
     "execution_count": 216,
     "metadata": {},
     "output_type": "execute_result"
    }
   ],
   "source": [
    "df.category.unique()"
   ]
  },
  {
   "cell_type": "code",
   "execution_count": 218,
   "metadata": {},
   "outputs": [
    {
     "data": {
      "text/plain": [
       "buyer_id          658\n",
       "buyer_country     658\n",
       "seller_id         658\n",
       "seller_country    658\n",
       "product_code      658\n",
       "category          658\n",
       "brand              81\n",
       "currency          658\n",
       "price             658\n",
       "date              658\n",
       "rate              658\n",
       "conv              658\n",
       "dtype: int64"
      ]
     },
     "execution_count": 218,
     "metadata": {},
     "output_type": "execute_result"
    }
   ],
   "source": [
    "df[(df['buyer_country'] == \"AU\") & (df.category == \"Shoes\")].count()"
   ]
  },
  {
   "cell_type": "code",
   "execution_count": 224,
   "metadata": {},
   "outputs": [
    {
     "data": {
      "text/plain": [
       "658"
      ]
     },
     "execution_count": 224,
     "metadata": {},
     "output_type": "execute_result"
    }
   ],
   "source": [
    "len(df[(df['buyer_country'] == \"AU\") & (df.category == \"Shoes\")])"
   ]
  },
  {
   "cell_type": "markdown",
   "metadata": {},
   "source": [
    "## 9. Which brand has the highest average transaction value?"
   ]
  },
  {
   "cell_type": "code",
   "execution_count": 225,
   "metadata": {},
   "outputs": [
    {
     "data": {
      "text/plain": [
       "31.563512798788846"
      ]
     },
     "execution_count": 225,
     "metadata": {},
     "output_type": "execute_result"
    }
   ],
   "source": [
    "(df[(df['brand'] == \"Adidas Originals\")]['conv'].sum())/(len(df[(df['brand'] == \"Adidas Originals\")]))"
   ]
  },
  {
   "cell_type": "code",
   "execution_count": 226,
   "metadata": {},
   "outputs": [
    {
     "data": {
      "text/plain": [
       "40.21121817931067"
      ]
     },
     "execution_count": 226,
     "metadata": {},
     "output_type": "execute_result"
    }
   ],
   "source": [
    "(df[(df['brand'] == \"Nike\")]['conv'].sum())/(len(df[(df['brand'] == \"Nike\")]))"
   ]
  },
  {
   "cell_type": "code",
   "execution_count": 227,
   "metadata": {},
   "outputs": [
    {
     "data": {
      "text/plain": [
       "32.083387936321806"
      ]
     },
     "execution_count": 227,
     "metadata": {},
     "output_type": "execute_result"
    }
   ],
   "source": [
    "(df[(df['brand'] == \"Berghaus\")]['conv'].sum())/(len(df[(df['brand'] == \"Berghaus\")]))"
   ]
  },
  {
   "cell_type": "code",
   "execution_count": 228,
   "metadata": {},
   "outputs": [
    {
     "data": {
      "text/plain": [
       "338.92693604836"
      ]
     },
     "execution_count": 228,
     "metadata": {},
     "output_type": "execute_result"
    }
   ],
   "source": [
    "(df[(df['brand'] == \"Goyard\")]['conv'].sum())/(len(df[(df['brand'] == \"Goyard\")]))"
   ]
  },
  {
   "cell_type": "code",
   "execution_count": 229,
   "metadata": {},
   "outputs": [
    {
     "data": {
      "text/plain": [
       "18.63896254176379"
      ]
     },
     "execution_count": 229,
     "metadata": {},
     "output_type": "execute_result"
    }
   ],
   "source": [
    "(df[(df['brand'] == \"Urban Outfitters\")]['conv'].sum())/(len(df[(df['brand'] == \"Urban Outfitters\")]))"
   ]
  },
  {
   "cell_type": "code",
   "execution_count": 235,
   "metadata": {},
   "outputs": [
    {
     "data": {
      "text/plain": [
       "brand\n",
       "Goyard            338.926936\n",
       "Loewe             334.530369\n",
       "Craig Green       266.792684\n",
       "TAG Heuer         224.586782\n",
       "Emilio Pucci      214.758636\n",
       "                     ...    \n",
       "Popular Sports      4.452175\n",
       "Max Factor          4.329298\n",
       "Bronica             3.329066\n",
       "360 Cashmere        0.950906\n",
       "36572               0.950199\n",
       "Name: conv, Length: 1134, dtype: float64"
      ]
     },
     "execution_count": 235,
     "metadata": {},
     "output_type": "execute_result"
    }
   ],
   "source": [
    "df.groupby(\"brand\")[\"conv\"].mean().sort_values(ascending = False)"
   ]
  },
  {
   "cell_type": "code",
   "execution_count": null,
   "metadata": {},
   "outputs": [],
   "source": []
  },
  {
   "cell_type": "markdown",
   "metadata": {},
   "source": [
    "## 10. What is the total value of items purchased by GB buyers from GB sellers?"
   ]
  },
  {
   "cell_type": "code",
   "execution_count": 237,
   "metadata": {},
   "outputs": [
    {
     "data": {
      "text/plain": [
       "3526745.033129233"
      ]
     },
     "execution_count": 237,
     "metadata": {},
     "output_type": "execute_result"
    }
   ],
   "source": [
    "df[(df['seller_country'] == \"GB\") & (df['buyer_country'] == \"GB\")]['conv'].sum()"
   ]
  },
  {
   "cell_type": "markdown",
   "metadata": {},
   "source": [
    "## 11. What percentage of US sellers' transactions were purchased by US buyers?"
   ]
  },
  {
   "cell_type": "code",
   "execution_count": 236,
   "metadata": {},
   "outputs": [
    {
     "data": {
      "text/plain": [
       "0.9596922067159569"
      ]
     },
     "execution_count": 236,
     "metadata": {},
     "output_type": "execute_result"
    }
   ],
   "source": [
    "a = df[(df['seller_country'] == \"US\")]['conv'].sum()\n",
    "b = df[(df['buyer_country'] == \"US\") & (df['seller_country'] == \"US\")]['conv'].sum()\n",
    "\n",
    "b/a"
   ]
  },
  {
   "cell_type": "code",
   "execution_count": null,
   "metadata": {},
   "outputs": [],
   "source": []
  },
  {
   "cell_type": "code",
   "execution_count": null,
   "metadata": {},
   "outputs": [],
   "source": []
  },
  {
   "cell_type": "code",
   "execution_count": null,
   "metadata": {},
   "outputs": [],
   "source": []
  },
  {
   "cell_type": "code",
   "execution_count": null,
   "metadata": {},
   "outputs": [],
   "source": []
  },
  {
   "cell_type": "code",
   "execution_count": null,
   "metadata": {},
   "outputs": [],
   "source": []
  }
 ],
 "metadata": {
  "colab": {
   "name": "Copy of Assignment2-Solutions.ipynb",
   "provenance": []
  },
  "kernelspec": {
   "display_name": "Python 3 (ipykernel)",
   "language": "python",
   "name": "python3"
  },
  "language_info": {
   "codemirror_mode": {
    "name": "ipython",
    "version": 3
   },
   "file_extension": ".py",
   "mimetype": "text/x-python",
   "name": "python",
   "nbconvert_exporter": "python",
   "pygments_lexer": "ipython3",
   "version": "3.9.13"
  },
  "toc": {
   "base_numbering": 1,
   "nav_menu": {},
   "number_sections": false,
   "sideBar": true,
   "skip_h1_title": false,
   "title_cell": "Table of Contents",
   "title_sidebar": "Contents",
   "toc_cell": false,
   "toc_position": {},
   "toc_section_display": true,
   "toc_window_display": true
  }
 },
 "nbformat": 4,
 "nbformat_minor": 1
}
